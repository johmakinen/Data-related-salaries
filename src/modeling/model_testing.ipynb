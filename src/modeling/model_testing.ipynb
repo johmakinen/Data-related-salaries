{
 "cells": [
  {
   "cell_type": "markdown",
   "metadata": {},
   "source": [
    "## This notebook is for creating and testing different models on classifying a salary range for a job posting"
   ]
  },
  {
   "cell_type": "code",
   "execution_count": 55,
   "metadata": {},
   "outputs": [
    {
     "name": "stderr",
     "output_type": "stream",
     "text": [
      "The system cannot find the path specified.\n",
      "Enabling notebook extension jupyter-js-widgets/extension...\n",
      "      - Validating: ok\n"
     ]
    }
   ],
   "source": [
    "import pandas as pd\n",
    "import numpy as np\n",
    "import os\n",
    "\n",
    "import seaborn as sns\n",
    "import matplotlib.pyplot as plt\n",
    "from sklearn.model_selection import train_test_split\n",
    "from catboost import CatBoostClassifier, Pool, metrics, cv\n",
    "from sklearn.metrics import accuracy_score\n",
    "from sklearn.metrics import confusion_matrix\n",
    "\n",
    "# !jupyter nbextension enable --py widgetsnbextension\n",
    "!jupyter nbextension enable widgetsnbextension --user --py --sys-prefix\n",
    "# Catboost widgets do not seem to work on my vscode notebooks.\n",
    "\n",
    "\n"
   ]
  },
  {
   "cell_type": "code",
   "execution_count": 26,
   "metadata": {},
   "outputs": [
    {
     "data": {
      "text/html": [
       "<div>\n",
       "<style scoped>\n",
       "    .dataframe tbody tr th:only-of-type {\n",
       "        vertical-align: middle;\n",
       "    }\n",
       "\n",
       "    .dataframe tbody tr th {\n",
       "        vertical-align: top;\n",
       "    }\n",
       "\n",
       "    .dataframe thead th {\n",
       "        text-align: right;\n",
       "    }\n",
       "</style>\n",
       "<table border=\"1\" class=\"dataframe\">\n",
       "  <thead>\n",
       "    <tr style=\"text-align: right;\">\n",
       "      <th></th>\n",
       "      <th>Unnamed: 0</th>\n",
       "      <th>Job Title</th>\n",
       "      <th>Salary Estimate</th>\n",
       "      <th>Job Description</th>\n",
       "      <th>Rating</th>\n",
       "      <th>Company Name</th>\n",
       "      <th>Location</th>\n",
       "      <th>Headquarters</th>\n",
       "      <th>Size</th>\n",
       "      <th>Type of ownership</th>\n",
       "      <th>Industry</th>\n",
       "      <th>Sector</th>\n",
       "      <th>Revenue</th>\n",
       "      <th>new_title</th>\n",
       "      <th>min_salary</th>\n",
       "      <th>max_salary</th>\n",
       "      <th>loc_state</th>\n",
       "    </tr>\n",
       "  </thead>\n",
       "  <tbody>\n",
       "    <tr>\n",
       "      <th>0</th>\n",
       "      <td>0</td>\n",
       "      <td>Data Analyst, Center on Immigration and Justic...</td>\n",
       "      <td>$37K-$66K</td>\n",
       "      <td>Are you eager to roll up your sleeves and harn...</td>\n",
       "      <td>3.2</td>\n",
       "      <td>Vera Institute of Justice</td>\n",
       "      <td>New York, NY</td>\n",
       "      <td>New York, NY</td>\n",
       "      <td>201 to 500 employees</td>\n",
       "      <td>Nonprofit Organization</td>\n",
       "      <td>Social Assistance</td>\n",
       "      <td>Non-Profit</td>\n",
       "      <td>$100 to $500 million (USD)</td>\n",
       "      <td>Analyst Remote</td>\n",
       "      <td>37.0</td>\n",
       "      <td>66.0</td>\n",
       "      <td>NY</td>\n",
       "    </tr>\n",
       "    <tr>\n",
       "      <th>1</th>\n",
       "      <td>1</td>\n",
       "      <td>Quality Data Analyst</td>\n",
       "      <td>$37K-$66K</td>\n",
       "      <td>Overview\\n\\nProvides analytical and technical ...</td>\n",
       "      <td>3.8</td>\n",
       "      <td>Visiting Nurse Service of New York</td>\n",
       "      <td>New York, NY</td>\n",
       "      <td>New York, NY</td>\n",
       "      <td>10000+ employees</td>\n",
       "      <td>Nonprofit Organization</td>\n",
       "      <td>Health Care Services &amp; Hospitals</td>\n",
       "      <td>Health Care</td>\n",
       "      <td>$2 to $5 billion (USD)</td>\n",
       "      <td>Data Analyst</td>\n",
       "      <td>37.0</td>\n",
       "      <td>66.0</td>\n",
       "      <td>NY</td>\n",
       "    </tr>\n",
       "    <tr>\n",
       "      <th>2</th>\n",
       "      <td>2</td>\n",
       "      <td>Senior Data Analyst, Insights &amp; Analytics Team...</td>\n",
       "      <td>$37K-$66K</td>\n",
       "      <td>We’re looking for a Senior Data Analyst who ha...</td>\n",
       "      <td>3.4</td>\n",
       "      <td>Squarespace</td>\n",
       "      <td>New York, NY</td>\n",
       "      <td>New York, NY</td>\n",
       "      <td>1001 to 5000 employees</td>\n",
       "      <td>Company - Private</td>\n",
       "      <td>Internet</td>\n",
       "      <td>Information Technology</td>\n",
       "      <td>Unknown / Non-Applicable</td>\n",
       "      <td>Analytics Solutions</td>\n",
       "      <td>37.0</td>\n",
       "      <td>66.0</td>\n",
       "      <td>NY</td>\n",
       "    </tr>\n",
       "    <tr>\n",
       "      <th>3</th>\n",
       "      <td>3</td>\n",
       "      <td>Data Analyst</td>\n",
       "      <td>$37K-$66K</td>\n",
       "      <td>Requisition NumberRR-0001939\\nRemote:Yes\\nWe c...</td>\n",
       "      <td>4.1</td>\n",
       "      <td>Celerity</td>\n",
       "      <td>New York, NY</td>\n",
       "      <td>McLean, VA</td>\n",
       "      <td>201 to 500 employees</td>\n",
       "      <td>Subsidiary or Business Segment</td>\n",
       "      <td>IT Services</td>\n",
       "      <td>Information Technology</td>\n",
       "      <td>$50 to $100 million (USD)</td>\n",
       "      <td>Data Analyst</td>\n",
       "      <td>37.0</td>\n",
       "      <td>66.0</td>\n",
       "      <td>NY</td>\n",
       "    </tr>\n",
       "    <tr>\n",
       "      <th>4</th>\n",
       "      <td>5</td>\n",
       "      <td>Data Analyst</td>\n",
       "      <td>$37K-$66K</td>\n",
       "      <td>About Cubist\\nCubist Systematic Strategies is ...</td>\n",
       "      <td>3.9</td>\n",
       "      <td>Point72</td>\n",
       "      <td>New York, NY</td>\n",
       "      <td>Stamford, CT</td>\n",
       "      <td>1001 to 5000 employees</td>\n",
       "      <td>Company - Private</td>\n",
       "      <td>Investment Banking &amp; Asset Management</td>\n",
       "      <td>Finance</td>\n",
       "      <td>Unknown / Non-Applicable</td>\n",
       "      <td>Data Analyst</td>\n",
       "      <td>37.0</td>\n",
       "      <td>66.0</td>\n",
       "      <td>NY</td>\n",
       "    </tr>\n",
       "  </tbody>\n",
       "</table>\n",
       "</div>"
      ],
      "text/plain": [
       "   Unnamed: 0                                          Job Title  \\\n",
       "0           0  Data Analyst, Center on Immigration and Justic...   \n",
       "1           1                               Quality Data Analyst   \n",
       "2           2  Senior Data Analyst, Insights & Analytics Team...   \n",
       "3           3                                       Data Analyst   \n",
       "4           5                                       Data Analyst   \n",
       "\n",
       "  Salary Estimate                                    Job Description  Rating  \\\n",
       "0       $37K-$66K  Are you eager to roll up your sleeves and harn...     3.2   \n",
       "1       $37K-$66K  Overview\\n\\nProvides analytical and technical ...     3.8   \n",
       "2       $37K-$66K  We’re looking for a Senior Data Analyst who ha...     3.4   \n",
       "3       $37K-$66K  Requisition NumberRR-0001939\\nRemote:Yes\\nWe c...     4.1   \n",
       "4       $37K-$66K  About Cubist\\nCubist Systematic Strategies is ...     3.9   \n",
       "\n",
       "                         Company Name      Location  Headquarters  \\\n",
       "0           Vera Institute of Justice  New York, NY  New York, NY   \n",
       "1  Visiting Nurse Service of New York  New York, NY  New York, NY   \n",
       "2                         Squarespace  New York, NY  New York, NY   \n",
       "3                            Celerity  New York, NY    McLean, VA   \n",
       "4                             Point72  New York, NY  Stamford, CT   \n",
       "\n",
       "                     Size               Type of ownership  \\\n",
       "0    201 to 500 employees          Nonprofit Organization   \n",
       "1        10000+ employees          Nonprofit Organization   \n",
       "2  1001 to 5000 employees               Company - Private   \n",
       "3    201 to 500 employees  Subsidiary or Business Segment   \n",
       "4  1001 to 5000 employees               Company - Private   \n",
       "\n",
       "                                Industry                  Sector  \\\n",
       "0                      Social Assistance              Non-Profit   \n",
       "1       Health Care Services & Hospitals             Health Care   \n",
       "2                               Internet  Information Technology   \n",
       "3                            IT Services  Information Technology   \n",
       "4  Investment Banking & Asset Management                 Finance   \n",
       "\n",
       "                      Revenue            new_title  min_salary  max_salary  \\\n",
       "0  $100 to $500 million (USD)       Analyst Remote        37.0        66.0   \n",
       "1      $2 to $5 billion (USD)         Data Analyst        37.0        66.0   \n",
       "2    Unknown / Non-Applicable  Analytics Solutions        37.0        66.0   \n",
       "3   $50 to $100 million (USD)         Data Analyst        37.0        66.0   \n",
       "4    Unknown / Non-Applicable         Data Analyst        37.0        66.0   \n",
       "\n",
       "  loc_state  \n",
       "0        NY  \n",
       "1        NY  \n",
       "2        NY  \n",
       "3        NY  \n",
       "4        NY  "
      ]
     },
     "execution_count": 26,
     "metadata": {},
     "output_type": "execute_result"
    }
   ],
   "source": [
    "df = pd.read_csv(os.path.dirname(os.getcwd())+\"\\\\EDA\\\\clean_data.csv\")\n",
    "df.head()"
   ]
  },
  {
   "cell_type": "code",
   "execution_count": 27,
   "metadata": {},
   "outputs": [
    {
     "data": {
      "text/plain": [
       "Low        967\n",
       "Average    595\n",
       "High       360\n",
       "Name: min_salary, dtype: int64"
      ]
     },
     "execution_count": 27,
     "metadata": {},
     "output_type": "execute_result"
    }
   ],
   "source": [
    "cols_to_keep = [\"Rating\",'Size','Type of ownership','Industry','Sector','Revenue','new_title','loc_state']\n",
    "# for now, drop all na values\n",
    "X = df[cols_to_keep]\n",
    "y = pd.cut(df[\"min_salary\"],bins=[0,50,70,max(df['min_salary'])],labels=[\"Low\",\"Average\",\"High\"])\n",
    "\n",
    "y.value_counts()"
   ]
  },
  {
   "cell_type": "code",
   "execution_count": 28,
   "metadata": {},
   "outputs": [
    {
     "data": {
      "text/plain": [
       "Rating               float64\n",
       "Size                  object\n",
       "Type of ownership     object\n",
       "Industry              object\n",
       "Sector                object\n",
       "Revenue               object\n",
       "new_title             object\n",
       "loc_state             object\n",
       "dtype: object"
      ]
     },
     "execution_count": 28,
     "metadata": {},
     "output_type": "execute_result"
    }
   ],
   "source": [
    "X.dtypes"
   ]
  },
  {
   "cell_type": "code",
   "execution_count": 29,
   "metadata": {},
   "outputs": [],
   "source": [
    "X_train, X_test, y_train, y_test = train_test_split(X, y, test_size=0.2, random_state=42) # Train + val & test\n",
    "\n",
    "numeric_features = X.select_dtypes(include=np.number).columns.tolist()\n",
    "categorical_features = [c for c in X.columns if c not in numeric_features]\n",
    "cat_idx = [X.columns.get_loc(col) for col in categorical_features]\n",
    "\n",
    "\n",
    "# columnTransformer = ColumnTransformer(\n",
    "#     transformers=[\n",
    "#         ('cat', OrdinalEncoder(), categorical_features)])\n",
    "\n",
    "# X_train = columnTransformer.fit_transform(X_train)\n",
    "# X_test = columnTransformer.fit_transform(X_test)\n",
    "\n",
    "X_train, X_val, y_train, y_val = train_test_split(X_train, y_train, test_size=0.3, random_state=42) # Train & val\n",
    "\n"
   ]
  },
  {
   "cell_type": "code",
   "execution_count": 45,
   "metadata": {},
   "outputs": [
    {
     "data": {
      "application/vnd.jupyter.widget-view+json": {
       "model_id": "b79344d8453045f683c7ccf3843ba222",
       "version_major": 2,
       "version_minor": 0
      },
      "text/plain": [
       "MetricVisualizer(layout=Layout(align_self='stretch', height='500px'))"
      ]
     },
     "metadata": {},
     "output_type": "display_data"
    },
    {
     "name": "stdout",
     "output_type": "stream",
     "text": [
      "Simple model validation accuracy: 0.5662\n"
     ]
    }
   ],
   "source": [
    "params = {\n",
    "    'iterations': 100,\n",
    "    'learning_rate': 0.1,\n",
    "    'eval_metric': metrics.AUCMulticlass(),\n",
    "    'random_seed': 42,\n",
    "    'logging_level': 'Silent',\n",
    "    'use_best_model': True,\n",
    "    'od_type': 'Iter',\n",
    "    'od_wait': 4\n",
    "}\n",
    "train_pool = Pool(X_train, y_train, cat_features=cat_idx)\n",
    "validate_pool = Pool(X_val, y_val, cat_features=cat_idx)\n",
    "\n",
    "model = CatBoostClassifier(**params)\n",
    "model.fit(train_pool, eval_set=validate_pool,plot=True)\n",
    "\n",
    "print('Simple model validation accuracy: {:.4}'.format(\n",
    "    accuracy_score(y_test, model.predict(X_test))\n",
    "))"
   ]
  },
  {
   "cell_type": "markdown",
   "metadata": {},
   "source": [
    "### Huge overfitting issue here"
   ]
  },
  {
   "cell_type": "markdown",
   "metadata": {},
   "source": [
    "### Drop unimportant categories"
   ]
  },
  {
   "cell_type": "code",
   "execution_count": 32,
   "metadata": {},
   "outputs": [
    {
     "name": "stdout",
     "output_type": "stream",
     "text": [
      "loc_state: 86.74640546337781\n",
      "Rating: 6.194821811501914\n",
      "Size: 5.050158905692258\n",
      "new_title: 1.3827179073830527\n",
      "Revenue: 0.6258959120449656\n",
      "Type of ownership: 0.0\n",
      "Sector: 0.0\n",
      "Industry: 0.0\n"
     ]
    }
   ],
   "source": [
    "feature_importances = model.get_feature_importance(train_pool)\n",
    "feature_names = X_train.columns\n",
    "for score, name in sorted(zip(feature_importances, feature_names), reverse=True):\n",
    "    print('{}: {}'.format(name, score))"
   ]
  },
  {
   "cell_type": "markdown",
   "metadata": {},
   "source": [
    "### It is no surprise that the state, rating and the size of the company affect the minimum salary significantly. Though, what is quite surprising is that the sector and industry do not have any importance in our model. This could be due to execcise missing values, or just due to the datasets underlying structure. I would have quessed that the industry that you are working in would impact on the salary. Either way, lets us drop the features that have no importance at all"
   ]
  },
  {
   "cell_type": "code",
   "execution_count": 70,
   "metadata": {},
   "outputs": [
    {
     "data": {
      "application/vnd.jupyter.widget-view+json": {
       "model_id": "825727f36f9f44989e7bf9a83fcd6662",
       "version_major": 2,
       "version_minor": 0
      },
      "text/plain": [
       "MetricVisualizer(layout=Layout(align_self='stretch', height='500px'))"
      ]
     },
     "metadata": {},
     "output_type": "display_data"
    },
    {
     "name": "stdout",
     "output_type": "stream",
     "text": [
      "Simple model test accuracy: 0.5896\n"
     ]
    }
   ],
   "source": [
    "params = {\n",
    "    'iterations': 300,\n",
    "    'learning_rate': 0.05,\n",
    "    # 'custom_metric': metrics.Precision(),\n",
    "    'random_seed': 42,\n",
    "    'logging_level': 'Silent',\n",
    "    'use_best_model': True,\n",
    "    'od_type': 'Iter',\n",
    "    'od_wait': 10\n",
    "}\n",
    "rm_cols = ['Type of ownership','Sector','Industry']\n",
    "rm_cols = ['Type of ownership','Industry','Sector','Revenue']\n",
    "X_train_new = X_train.drop(columns=rm_cols)\n",
    "X_val_new = X_val.drop(columns=rm_cols)\n",
    "X_test_new = X_test.drop(columns=rm_cols)\n",
    "\n",
    "numeric_features = X_train_new.select_dtypes(include=np.number).columns.tolist()\n",
    "categorical_features = [c for c in X_train_new.columns if c not in numeric_features]\n",
    "cat_idx_new = [X_train_new.columns.get_loc(col) for col in categorical_features]\n",
    "\n",
    "train_pool = Pool(X_train_new, y_train, cat_features=cat_idx_new)\n",
    "validate_pool = Pool(X_val_new, y_val, cat_features=cat_idx_new)\n",
    "\n",
    "model = CatBoostClassifier(**params)\n",
    "model.fit(train_pool, eval_set=validate_pool,plot=True)\n",
    "\n",
    "y_pred = model.predict(X_test_new)\n",
    "print('Simple model test accuracy: {:.4}'.format(\n",
    "    accuracy_score(y_test, y_pred)\n",
    "))\n"
   ]
  },
  {
   "cell_type": "code",
   "execution_count": 71,
   "metadata": {},
   "outputs": [
    {
     "data": {
      "text/plain": [
       "Text(33.0, 0.5, 'Real')"
      ]
     },
     "execution_count": 71,
     "metadata": {},
     "output_type": "execute_result"
    },
    {
     "data": {
      "image/png": "[encoded data removed]",
      "text/plain": [
       "<Figure size 432x288 with 2 Axes>"
      ]
     },
     "metadata": {
      "needs_background": "light"
     },
     "output_type": "display_data"
    }
   ],
   "source": [
    "sns.heatmap(confusion_matrix(y_test, y_pred),annot=True,fmt=\"d\")\n",
    "plt.xlabel('Predicted', fontsize = 15)\n",
    "plt.ylabel('Real', fontsize = 15)"
   ]
  },
  {
   "cell_type": "code",
   "execution_count": 52,
   "metadata": {},
   "outputs": [
    {
     "data": {
      "text/plain": [
       "Low        193\n",
       "Average    116\n",
       "High        76\n",
       "Name: min_salary, dtype: int64"
      ]
     },
     "execution_count": 52,
     "metadata": {},
     "output_type": "execute_result"
    }
   ],
   "source": [
    "y_test.value_counts()"
   ]
  }
 ],
 "metadata": {
  "interpreter": {
   "hash": "95c126be7906cb3ce224c5e13096060dff62da475e2b434fda555373526b57f6"
  },
  "kernelspec": {
   "display_name": "Python 3.10.0 64-bit ('gen_ml_env': conda)",
   "language": "python",
   "name": "python3"
  },
  "language_info": {
   "codemirror_mode": {
    "name": "ipython",
    "version": 3
   },
   "file_extension": ".py",
   "mimetype": "text/x-python",
   "name": "python",
   "nbconvert_exporter": "python",
   "pygments_lexer": "ipython3",
   "version": "3.10.0"
  },
  "orig_nbformat": 4
 },
 "nbformat": 4,
 "nbformat_minor": 2
}

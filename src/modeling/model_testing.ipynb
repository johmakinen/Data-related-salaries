{
 "cells": [
  {
   "cell_type": "markdown",
   "metadata": {},
   "source": [
    "## This notebook is for creating and testing different models on classifying a salary range for a job posting"
   ]
  },
  {
   "cell_type": "code",
   "execution_count": 23,
   "metadata": {},
   "outputs": [
    {
     "name": "stderr",
     "output_type": "stream",
     "text": [
      "The system cannot find the path specified.\n",
      "Enabling notebook extension jupyter-js-widgets/extension...\n",
      "      - Validating: ok\n"
     ]
    }
   ],
   "source": [
    "import pandas as pd\n",
    "import numpy as np\n",
    "import os\n",
    "\n",
    "import seaborn as sns\n",
    "import matplotlib.pyplot as plt\n",
    "from sklearn.model_selection import train_test_split\n",
    "from catboost import CatBoostClassifier, Pool, metrics, cv\n",
    "from sklearn.metrics import accuracy_score\n",
    "from sklearn.metrics import confusion_matrix\n",
    "\n",
    "# !jupyter nbextension enable --py widgetsnbextension\n",
    "!jupyter nbextension enable widgetsnbextension --user --py --sys-prefix\n",
    "# Catboost widgets do not seem to work on my vscode notebooks.\n",
    "\n",
    "\n"
   ]
  },
  {
   "cell_type": "code",
   "execution_count": 32,
   "metadata": {},
   "outputs": [
    {
     "data": {
      "text/html": [
       "<div>\n",
       "<style scoped>\n",
       "    .dataframe tbody tr th:only-of-type {\n",
       "        vertical-align: middle;\n",
       "    }\n",
       "\n",
       "    .dataframe tbody tr th {\n",
       "        vertical-align: top;\n",
       "    }\n",
       "\n",
       "    .dataframe thead th {\n",
       "        text-align: right;\n",
       "    }\n",
       "</style>\n",
       "<table border=\"1\" class=\"dataframe\">\n",
       "  <thead>\n",
       "    <tr style=\"text-align: right;\">\n",
       "      <th></th>\n",
       "      <th>Job Title</th>\n",
       "      <th>Salary Estimate</th>\n",
       "      <th>Job Description</th>\n",
       "      <th>Rating</th>\n",
       "      <th>Company Name</th>\n",
       "      <th>Location</th>\n",
       "      <th>Headquarters</th>\n",
       "      <th>Size</th>\n",
       "      <th>Type of ownership</th>\n",
       "      <th>Industry</th>\n",
       "      <th>Sector</th>\n",
       "      <th>Revenue</th>\n",
       "      <th>data_title</th>\n",
       "      <th>new_title</th>\n",
       "      <th>min_salary</th>\n",
       "      <th>max_salary</th>\n",
       "      <th>loc_state</th>\n",
       "    </tr>\n",
       "  </thead>\n",
       "  <tbody>\n",
       "    <tr>\n",
       "      <th>0</th>\n",
       "      <td>Data Analyst, Center on Immigration and Justic...</td>\n",
       "      <td>$37K-$66K</td>\n",
       "      <td>Are you eager to roll up your sleeves and harn...</td>\n",
       "      <td>3.2</td>\n",
       "      <td>Vera Institute of Justice</td>\n",
       "      <td>New York, NY</td>\n",
       "      <td>New York, NY</td>\n",
       "      <td>201 to 500 employees</td>\n",
       "      <td>Nonprofit Organization</td>\n",
       "      <td>Social Assistance</td>\n",
       "      <td>Non-Profit</td>\n",
       "      <td>$100 to $500 million (USD)</td>\n",
       "      <td>Data Analyst</td>\n",
       "      <td>Integration Engineer</td>\n",
       "      <td>37</td>\n",
       "      <td>66</td>\n",
       "      <td>NY</td>\n",
       "    </tr>\n",
       "    <tr>\n",
       "      <th>1</th>\n",
       "      <td>Quality Data Analyst</td>\n",
       "      <td>$37K-$66K</td>\n",
       "      <td>Overview\\n\\nProvides analytical and technical ...</td>\n",
       "      <td>3.8</td>\n",
       "      <td>Visiting Nurse Service of New York</td>\n",
       "      <td>New York, NY</td>\n",
       "      <td>New York, NY</td>\n",
       "      <td>10000+ employees</td>\n",
       "      <td>Nonprofit Organization</td>\n",
       "      <td>Health Care Services &amp; Hospitals</td>\n",
       "      <td>Health Care</td>\n",
       "      <td>$2 to $5 billion (USD)</td>\n",
       "      <td>Data Analyst</td>\n",
       "      <td>Quality Analyst</td>\n",
       "      <td>37</td>\n",
       "      <td>66</td>\n",
       "      <td>NY</td>\n",
       "    </tr>\n",
       "    <tr>\n",
       "      <th>2</th>\n",
       "      <td>Senior Data Analyst, Insights &amp; Analytics Team...</td>\n",
       "      <td>$37K-$66K</td>\n",
       "      <td>We’re looking for a Senior Data Analyst who ha...</td>\n",
       "      <td>3.4</td>\n",
       "      <td>Squarespace</td>\n",
       "      <td>New York, NY</td>\n",
       "      <td>New York, NY</td>\n",
       "      <td>1001 to 5000 employees</td>\n",
       "      <td>Company - Private</td>\n",
       "      <td>Internet</td>\n",
       "      <td>Information Technology</td>\n",
       "      <td>Unknown / Non-Applicable</td>\n",
       "      <td>Data Analyst</td>\n",
       "      <td>Analyst Healthcare</td>\n",
       "      <td>37</td>\n",
       "      <td>66</td>\n",
       "      <td>NY</td>\n",
       "    </tr>\n",
       "    <tr>\n",
       "      <th>3</th>\n",
       "      <td>Data Analyst</td>\n",
       "      <td>$37K-$66K</td>\n",
       "      <td>Requisition NumberRR-0001939\\nRemote:Yes\\nWe c...</td>\n",
       "      <td>4.1</td>\n",
       "      <td>Celerity</td>\n",
       "      <td>New York, NY</td>\n",
       "      <td>McLean, VA</td>\n",
       "      <td>201 to 500 employees</td>\n",
       "      <td>Subsidiary or Business Segment</td>\n",
       "      <td>IT Services</td>\n",
       "      <td>Information Technology</td>\n",
       "      <td>$50 to $100 million (USD)</td>\n",
       "      <td>Data Analyst</td>\n",
       "      <td>Data Analyst</td>\n",
       "      <td>37</td>\n",
       "      <td>66</td>\n",
       "      <td>NY</td>\n",
       "    </tr>\n",
       "    <tr>\n",
       "      <th>4</th>\n",
       "      <td>Reporting Data Analyst</td>\n",
       "      <td>$37K-$66K</td>\n",
       "      <td>ABOUT FANDUEL GROUP\\n\\nFanDuel Group is a worl...</td>\n",
       "      <td>3.9</td>\n",
       "      <td>FanDuel</td>\n",
       "      <td>New York, NY</td>\n",
       "      <td>New York, NY</td>\n",
       "      <td>501 to 1000 employees</td>\n",
       "      <td>Company - Private</td>\n",
       "      <td>Sports &amp; Recreation</td>\n",
       "      <td>Arts, Entertainment &amp; Recreation</td>\n",
       "      <td>$100 to $500 million (USD)</td>\n",
       "      <td>Data Analyst</td>\n",
       "      <td>Reporting Analyst</td>\n",
       "      <td>37</td>\n",
       "      <td>66</td>\n",
       "      <td>NY</td>\n",
       "    </tr>\n",
       "  </tbody>\n",
       "</table>\n",
       "</div>"
      ],
      "text/plain": [
       "                                           Job Title Salary Estimate  \\\n",
       "0  Data Analyst, Center on Immigration and Justic...       $37K-$66K   \n",
       "1                               Quality Data Analyst       $37K-$66K   \n",
       "2  Senior Data Analyst, Insights & Analytics Team...       $37K-$66K   \n",
       "3                                       Data Analyst       $37K-$66K   \n",
       "4                             Reporting Data Analyst       $37K-$66K   \n",
       "\n",
       "                                     Job Description Rating  \\\n",
       "0  Are you eager to roll up your sleeves and harn...    3.2   \n",
       "1  Overview\\n\\nProvides analytical and technical ...    3.8   \n",
       "2  We’re looking for a Senior Data Analyst who ha...    3.4   \n",
       "3  Requisition NumberRR-0001939\\nRemote:Yes\\nWe c...    4.1   \n",
       "4  ABOUT FANDUEL GROUP\\n\\nFanDuel Group is a worl...    3.9   \n",
       "\n",
       "                         Company Name      Location  Headquarters  \\\n",
       "0           Vera Institute of Justice  New York, NY  New York, NY   \n",
       "1  Visiting Nurse Service of New York  New York, NY  New York, NY   \n",
       "2                         Squarespace  New York, NY  New York, NY   \n",
       "3                            Celerity  New York, NY    McLean, VA   \n",
       "4                             FanDuel  New York, NY  New York, NY   \n",
       "\n",
       "                     Size               Type of ownership  \\\n",
       "0    201 to 500 employees          Nonprofit Organization   \n",
       "1        10000+ employees          Nonprofit Organization   \n",
       "2  1001 to 5000 employees               Company - Private   \n",
       "3    201 to 500 employees  Subsidiary or Business Segment   \n",
       "4   501 to 1000 employees               Company - Private   \n",
       "\n",
       "                           Industry                            Sector  \\\n",
       "0                 Social Assistance                        Non-Profit   \n",
       "1  Health Care Services & Hospitals                       Health Care   \n",
       "2                          Internet            Information Technology   \n",
       "3                       IT Services            Information Technology   \n",
       "4               Sports & Recreation  Arts, Entertainment & Recreation   \n",
       "\n",
       "                      Revenue    data_title             new_title  min_salary  \\\n",
       "0  $100 to $500 million (USD)  Data Analyst  Integration Engineer          37   \n",
       "1      $2 to $5 billion (USD)  Data Analyst       Quality Analyst          37   \n",
       "2    Unknown / Non-Applicable  Data Analyst    Analyst Healthcare          37   \n",
       "3   $50 to $100 million (USD)  Data Analyst          Data Analyst          37   \n",
       "4  $100 to $500 million (USD)  Data Analyst     Reporting Analyst          37   \n",
       "\n",
       "   max_salary loc_state  \n",
       "0          66        NY  \n",
       "1          66        NY  \n",
       "2          66        NY  \n",
       "3          66        NY  \n",
       "4          66        NY  "
      ]
     },
     "execution_count": 32,
     "metadata": {},
     "output_type": "execute_result"
    }
   ],
   "source": [
    "df = pd.read_csv(os.path.dirname(os.getcwd())+\"\\\\EDA\\\\clean_data.csv\").drop(columns=['Unnamed: 0'])\n",
    "df.head()"
   ]
  },
  {
   "cell_type": "code",
   "execution_count": 25,
   "metadata": {},
   "outputs": [
    {
     "data": {
      "text/plain": [
       "Job Title            5338\n",
       "Salary Estimate       416\n",
       "Job Description      9683\n",
       "Rating                 38\n",
       "Company Name         4521\n",
       "Location              378\n",
       "Headquarters          938\n",
       "Size                    9\n",
       "Type of ownership      15\n",
       "Industry               65\n",
       "Sector                 23\n",
       "Revenue                14\n",
       "data_title              4\n",
       "new_title              72\n",
       "min_salary            110\n",
       "max_salary            148\n",
       "loc_state              16\n",
       "dtype: int64"
      ]
     },
     "execution_count": 25,
     "metadata": {},
     "output_type": "execute_result"
    }
   ],
   "source": [
    "df.nunique()"
   ]
  },
  {
   "cell_type": "code",
   "execution_count": 43,
   "metadata": {},
   "outputs": [
    {
     "data": {
      "text/plain": [
       "50-80k       4225\n",
       "Under 50k    4145\n",
       "Over 80k     3429\n",
       "Name: min_salary, dtype: int64"
      ]
     },
     "execution_count": 43,
     "metadata": {},
     "output_type": "execute_result"
    }
   ],
   "source": [
    "cols_to_keep = ['Size','Type of ownership','Industry','Sector','Revenue','data_title','loc_state']\n",
    "# for now, drop all na values\n",
    "X = df[cols_to_keep]\n",
    "y = pd.cut(df[\"min_salary\"],bins=[0,50,80,max(df['min_salary'])],labels=[\"Under 50k\",\"50-80k\",\"Over 80k\"])#,labels=[\"Low\",\"Average\",\"High\"],labels=[\"Under 50k\",\"50-80k\",\"Over 80k\"]\n",
    "y.value_counts()"
   ]
  },
  {
   "cell_type": "code",
   "execution_count": 44,
   "metadata": {},
   "outputs": [],
   "source": [
    "X_train, X_test, y_train, y_test = train_test_split(X, y, test_size=0.2, random_state=42,shuffle=True) # Train + val & test\n",
    "\n",
    "numeric_features = X.select_dtypes(include=np.number).columns.tolist()\n",
    "categorical_features = [c for c in X.columns if c not in numeric_features]\n",
    "cat_idx = [X.columns.get_loc(col) for col in categorical_features]\n",
    "\n",
    "\n",
    "# columnTransformer = ColumnTransformer(\n",
    "#     transformers=[\n",
    "#         ('cat', OrdinalEncoder(), categorical_features)])\n",
    "\n",
    "# X_train = columnTransformer.fit_transform(X_train)\n",
    "# X_test = columnTransformer.fit_transform(X_test)\n",
    "\n",
    "X_train, X_val, y_train, y_val = train_test_split(X_train, y_train, test_size=0.3, random_state=42) # Train & val\n",
    "\n"
   ]
  },
  {
   "cell_type": "code",
   "execution_count": 47,
   "metadata": {},
   "outputs": [
    {
     "data": {
      "application/vnd.jupyter.widget-view+json": {
       "model_id": "62b21ee7192c421a9ae17fa4f8d3ea0d",
       "version_major": 2,
       "version_minor": 0
      },
      "text/plain": [
       "MetricVisualizer(layout=Layout(align_self='stretch', height='500px'))"
      ]
     },
     "metadata": {},
     "output_type": "display_data"
    },
    {
     "name": "stdout",
     "output_type": "stream",
     "text": [
      "Simple model validation accuracy: 0.6038\n"
     ]
    }
   ],
   "source": [
    "params = {\n",
    "    'iterations': 100,\n",
    "    'learning_rate': 0.1,\n",
    "    'eval_metric': metrics.AUCMulticlass(),\n",
    "    'random_seed': 42,\n",
    "    'logging_level': 'Silent',\n",
    "    'use_best_model': True,\n",
    "    'od_type': 'Iter',\n",
    "    'od_wait': 4\n",
    "}\n",
    "train_pool = Pool(X_train, y_train, cat_features=cat_idx)\n",
    "validate_pool = Pool(X_val, y_val, cat_features=cat_idx)\n",
    "\n",
    "model = CatBoostClassifier(**params)\n",
    "model.fit(train_pool, eval_set=validate_pool,plot=True)\n",
    "\n",
    "print('Simple model validation accuracy: {:.4}'.format(\n",
    "    accuracy_score(y_test, model.predict(X_test))\n",
    "))"
   ]
  },
  {
   "cell_type": "markdown",
   "metadata": {},
   "source": [
    "### Huge overfitting issue here"
   ]
  },
  {
   "cell_type": "markdown",
   "metadata": {},
   "source": [
    "### Drop unimportant categories"
   ]
  },
  {
   "cell_type": "code",
   "execution_count": 48,
   "metadata": {},
   "outputs": [
    {
     "name": "stdout",
     "output_type": "stream",
     "text": [
      "data_title: 58.384189894154424\n",
      "loc_state: 41.61581010584555\n",
      "Type of ownership: 0.0\n",
      "Size: 0.0\n",
      "Sector: 0.0\n",
      "Revenue: 0.0\n",
      "Industry: 0.0\n"
     ]
    }
   ],
   "source": [
    "feature_importances = model.get_feature_importance(train_pool)\n",
    "feature_names = X_train.columns\n",
    "for score, name in sorted(zip(feature_importances, feature_names), reverse=True):\n",
    "    print('{}: {}'.format(name, score))"
   ]
  },
  {
   "cell_type": "markdown",
   "metadata": {},
   "source": [
    "### It is no surprise that the state and the title of the job the minimum salary significantly. Though, what is quite surprising is that the sector and industry do not have any importance in our model. This could be due to execcise missing values, or just due to the datasets underlying structure. I would have quessed that the industry that you are working in would impact on the salary. Either way, lets us drop the features that have no importance at all"
   ]
  },
  {
   "cell_type": "code",
   "execution_count": 49,
   "metadata": {},
   "outputs": [
    {
     "data": {
      "application/vnd.jupyter.widget-view+json": {
       "model_id": "74c8e9b3292b489297967d6d8158fd25",
       "version_major": 2,
       "version_minor": 0
      },
      "text/plain": [
       "MetricVisualizer(layout=Layout(align_self='stretch', height='500px'))"
      ]
     },
     "metadata": {},
     "output_type": "display_data"
    },
    {
     "name": "stdout",
     "output_type": "stream",
     "text": [
      "Simple model test accuracy: 0.6119\n"
     ]
    }
   ],
   "source": [
    "params = {\n",
    "    'iterations': 300,\n",
    "    'learning_rate': 0.05,\n",
    "    # 'custom_metric': metrics.Precision(),\n",
    "    'random_seed': 42,\n",
    "    'logging_level': 'Silent',\n",
    "    'use_best_model': True,\n",
    "    'od_type': 'Iter',\n",
    "    'od_wait': 10\n",
    "}\n",
    "rm_cols = ['Type of ownership','Sector','Industry']\n",
    "rm_cols = ['Type of ownership','Industry','Sector','Revenue']\n",
    "X_train_new = X_train.drop(columns=rm_cols)\n",
    "X_val_new = X_val.drop(columns=rm_cols)\n",
    "X_test_new = X_test.drop(columns=rm_cols)\n",
    "\n",
    "numeric_features = X_train_new.select_dtypes(include=np.number).columns.tolist()\n",
    "categorical_features = [c for c in X_train_new.columns if c not in numeric_features]\n",
    "cat_idx_new = [X_train_new.columns.get_loc(col) for col in categorical_features]\n",
    "\n",
    "train_pool = Pool(X_train_new, y_train, cat_features=cat_idx_new)\n",
    "validate_pool = Pool(X_val_new, y_val, cat_features=cat_idx_new)\n",
    "\n",
    "model = CatBoostClassifier(**params)\n",
    "model.fit(train_pool, eval_set=validate_pool,plot=True)\n",
    "\n",
    "y_pred = model.predict(X_test_new)\n",
    "print('Simple model test accuracy: {:.4}'.format(\n",
    "    accuracy_score(y_test, y_pred)\n",
    "))\n"
   ]
  },
  {
   "cell_type": "code",
   "execution_count": 50,
   "metadata": {},
   "outputs": [
    {
     "data": {
      "text/plain": [
       "Text(33.0, 0.5, 'Real')"
      ]
     },
     "execution_count": 50,
     "metadata": {},
     "output_type": "execute_result"
    },
    {
     "data": {
      "image/png": "[encoded data removed]",
      "text/plain": [
       "<Figure size 432x288 with 2 Axes>"
      ]
     },
     "metadata": {
      "needs_background": "light"
     },
     "output_type": "display_data"
    }
   ],
   "source": [
    "sns.heatmap(confusion_matrix(y_test, y_pred),annot=True,fmt=\"d\")\n",
    "plt.xlabel('Predicted', fontsize = 15)\n",
    "plt.ylabel('Real', fontsize = 15)"
   ]
  },
  {
   "cell_type": "code",
   "execution_count": 51,
   "metadata": {},
   "outputs": [
    {
     "data": {
      "text/plain": [
       "50-80k       835\n",
       "Under 50k    823\n",
       "Over 80k     702\n",
       "Name: min_salary, dtype: int64"
      ]
     },
     "execution_count": 51,
     "metadata": {},
     "output_type": "execute_result"
    }
   ],
   "source": [
    "y_test.value_counts()"
   ]
  }
 ],
 "metadata": {
  "interpreter": {
   "hash": "95c126be7906cb3ce224c5e13096060dff62da475e2b434fda555373526b57f6"
  },
  "kernelspec": {
   "display_name": "Python 3.10.0 64-bit ('gen_ml_env': conda)",
   "language": "python",
   "name": "python3"
  },
  "language_info": {
   "codemirror_mode": {
    "name": "ipython",
    "version": 3
   },
   "file_extension": ".py",
   "mimetype": "text/x-python",
   "name": "python",
   "nbconvert_exporter": "python",
   "pygments_lexer": "ipython3",
   "version": "3.10.0"
  },
  "orig_nbformat": 4
 },
 "nbformat": 4,
 "nbformat_minor": 2
}
